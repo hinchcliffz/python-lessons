{
 "cells": [
  {
   "cell_type": "markdown",
   "metadata": {},
   "source": [
    "# Lesson One\n",
    "\n",
    "This we will cover the data types available to you while writing Python. These are the basic building blocks for writing Python and building your future programs.\n",
    "## We will cover:\n",
    "- Strings\n",
    "- Integers\n",
    "- Floats\n",
    "- Booleans\n",
    "- Lists\n",
    "- Tuples\n",
    "- Dictionaries\n"
   ]
  },
  {
   "cell_type": "markdown",
   "metadata": {},
   "source": [
    "### Strings\n",
    "Strings are used to store a line or sequence of characters. This can be used to store names, sentances, and even hashes of data."
   ]
  },
  {
   "cell_type": "code",
   "execution_count": 4,
   "metadata": {},
   "outputs": [],
   "source": [
    "# Basic String\n",
    "name = \"John Doe\"\n",
    "\n",
    "# You can use the + operator to concatenate strings\n",
    "sentence = \"Hello, my name is \" + name\n",
    "\n",
    "# You can also use the * operator to repeat a string\n",
    "sentence2 = \"Hello, my name is \" * 3\n",
    "\n",
    "# You can use the in operator to check if a string is in another string\n",
    "isJohnInName =  \"John\" in name\n",
    "\n",
    "# You can use the len() function to get the length of a string\n",
    "lengthOfName = len(name)\n"
   ]
  },
  {
   "cell_type": "markdown",
   "metadata": {},
   "source": [
    "### Integers and Numbers\n",
    "You can perform any mathmatical operations on Integers or numbers. Be sure you are performing operations on similiar types, otherwise you will receive unexpected results.\n"
   ]
  },
  {
   "cell_type": "code",
   "execution_count": 15,
   "metadata": {},
   "outputs": [],
   "source": [
    "# Integer - Whole Number\n",
    "age = 20\n",
    "\n",
    "# Float - Decimal Number\n",
    "height = 2.78\n",
    "\n",
    "# Add - Two Numbers\n",
    "sumNumbers = age + 23\n",
    "## If you add a string and a number you will get an error.\n",
    "## sumStringAndNumber = age + name\n",
    "## You can however add a Integer and a Float\n",
    "sumNumbersAndFloat = age + height\n",
    "\n",
    "# Subtract\n",
    "difference = age - height\n",
    "\n",
    "# multiply\n",
    "product = age * height\n",
    "\n",
    "# Divide\n",
    "quotient = age / height\n",
    "\n",
    "# Modulus - Remainder of a particular number division\n",
    "remainder = height % 2\n",
    "\n",
    "# Exponent - Raise a number to a power\n",
    "exponent = 2 ** 3\n",
    "\n",
    "# Square Root\n",
    "squareRoot = height ** 0.5\n",
    "\n",
    "\n"
   ]
  },
  {
   "cell_type": "markdown",
   "metadata": {},
   "source": [
    "## Booleans\n",
    "They are used for True or False Statements"
   ]
  },
  {
   "cell_type": "code",
   "execution_count": 17,
   "metadata": {},
   "outputs": [],
   "source": [
    "# True\n",
    "isTrue = True\n",
    "# False\n",
    "isFalse = False\n",
    "\n",
    "# Comparing Two Booleans - you can use is to check if two variables are equal\n",
    "isEqual = isTrue is isFalse\n",
    "\n",
    "# Comparing Two Booleans - you can use == to check if two variables are equal\n",
    "isEqualTwo = isTrue == isFalse\n",
    "\n",
    "# You can use is not to check if two variables are not equal\n",
    "isNotEqual = isTrue is not isFalse\n",
    "\n",
    "# You can also use != to check if two variables are not equal\n",
    "isNotEqualTwo = isTrue != isFalse\n"
   ]
  },
  {
   "cell_type": "markdown",
   "metadata": {},
   "source": [
    "### Lists\n",
    "Storing multiple peices of information is particularly useful in programming. We can do a lot of power things with these lists.\n",
    "One thing to note when using any List Indexes you always start counting from 0 instead of 1. So the first item would be at index 0."
   ]
  },
  {
   "cell_type": "code",
   "execution_count": 1,
   "metadata": {},
   "outputs": [],
   "source": [
    "# List\n",
    "programmingLanguages = [\"Python\", \"Java\", \"C++\", \"C#\", \"JavaScript\"]\n",
    "\n",
    "## Count List\n",
    "countProgrammingLanguages = len(programmingLanguages)\n",
    "\n",
    "## Get List Item - Get the First Item in a List\n",
    "firstProgrammingLanguage = programmingLanguages[0]\n",
    "\n",
    "## Add an Item to a List\n",
    "programmingLanguages.append(\"PHP\")\n",
    "\n",
    "# Remove an Item from a List\n",
    "programmingLanguages.remove(\"C++\")\n",
    "\n"
   ]
  },
  {
   "cell_type": "markdown",
   "metadata": {},
   "source": [
    "### Tuple\n",
    "A tuple is used to store a pair of values. "
   ]
  },
  {
   "cell_type": "code",
   "execution_count": 2,
   "metadata": {},
   "outputs": [],
   "source": [
    "# Tuple\n",
    "## Sonora, CA Coordinates\n",
    "coordinates = (37.9829, -120.3822)\n"
   ]
  },
  {
   "cell_type": "markdown",
   "metadata": {},
   "source": [
    "## Dictionaries\n",
    "Dictionaries can be used to store Key Value pairs. This is used as a way to lookup specific values for an item.\n"
   ]
  },
  {
   "cell_type": "code",
   "execution_count": 4,
   "metadata": {},
   "outputs": [],
   "source": [
    "# Dictionary\n",
    "programmer_info = {\n",
    "    \"name\": \"John Doe\",\n",
    "    \"age\": 20,\n",
    "    \"height\": 2.78,\n",
    "    \"programmingLanguages\": [\"Python\", \"Java\", \"C++\", \"C#\", \"JavaScript\"]\n",
    "}\n",
    "\n",
    "# Get a Value from a Dictionary\n",
    "name = programmer_info[\"name\"]\n",
    "\n",
    "# Update a value for a key in a Dictionary\n",
    "programmer_info[\"name\"] = \"Jane Dozer\"\n",
    "\n",
    "# Add a new key and value to a Dictionary\n",
    "programmer_info[\"isProgrammer\"] = True\n",
    "\n",
    "# Remove a key and value from a Dictionary\n",
    "del programmer_info[\"isProgrammer\"]\n",
    "\n"
   ]
  }
 ],
 "metadata": {
  "interpreter": {
   "hash": "aee8b7b246df8f9039afb4144a1f6fd8d2ca17a180786b69acc140d282b71a49"
  },
  "kernelspec": {
   "display_name": "Python 3.9.8 64-bit",
   "language": "python",
   "name": "python3"
  },
  "language_info": {
   "codemirror_mode": {
    "name": "ipython",
    "version": 3
   },
   "file_extension": ".py",
   "mimetype": "text/x-python",
   "name": "python",
   "nbconvert_exporter": "python",
   "pygments_lexer": "ipython3",
   "version": "3.9.8"
  },
  "orig_nbformat": 4
 },
 "nbformat": 4,
 "nbformat_minor": 2
}
